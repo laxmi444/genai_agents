{
 "cells": [
  {
   "cell_type": "markdown",
   "metadata": {},
   "source": [
    "# Weather Information Agent"
   ]
  },
  {
   "cell_type": "markdown",
   "metadata": {},
   "source": [
    "The Weather Information Agent is designed to interpret natural language weather-related queries, extract the location, fetch real-time weather data, and generate a user-friendly response.\n",
    "\n",
    "- Location Extraction: Uses OpenAI API to determine the location from user queries.\n",
    "\n",
    "- Weather Data Retrieval: Fetches real-time weather details such as temperature, humidity, wind speed, and cloud coverage using Weatherstack API.\n",
    "\n",
    "- Natural Language Response: Generates conversational weather descriptions using OpenAI’s language model.\n",
    "\n",
    "- Comprehensive Query Processing: Ensures an end-to-end flow from understanding the user’s question to delivering an insightful weather report.\n",
    "\n",
    "This agent provides an interactive and seamless weather update experience for users."
   ]
  },
  {
   "cell_type": "markdown",
   "metadata": {},
   "source": [
    "### 1. Install necessary packages"
   ]
  },
  {
   "cell_type": "code",
   "execution_count": null,
   "metadata": {},
   "outputs": [
    {
     "name": "stdout",
     "output_type": "stream",
     "text": [
      "Collecting openai==0.28.0\n",
      "  Downloading openai-0.28.0-py3-none-any.whl.metadata (13 kB)\n",
      "Requirement already satisfied: python-dotenv in c:\\users\\omkar\\anaconda3\\lib\\site-packages (1.0.1)\n",
      "Requirement already satisfied: requests>=2.20 in c:\\users\\omkar\\anaconda3\\lib\\site-packages (from openai==0.28.0) (2.32.2)\n",
      "Requirement already satisfied: tqdm in c:\\users\\omkar\\anaconda3\\lib\\site-packages (from openai==0.28.0) (4.66.4)\n",
      "Requirement already satisfied: aiohttp in c:\\users\\omkar\\anaconda3\\lib\\site-packages (from openai==0.28.0) (3.9.5)\n",
      "Requirement already satisfied: charset-normalizer<4,>=2 in c:\\users\\omkar\\anaconda3\\lib\\site-packages (from requests>=2.20->openai==0.28.0) (2.0.4)\n",
      "Requirement already satisfied: idna<4,>=2.5 in c:\\users\\omkar\\anaconda3\\lib\\site-packages (from requests>=2.20->openai==0.28.0) (3.7)\n",
      "Requirement already satisfied: urllib3<3,>=1.21.1 in c:\\users\\omkar\\anaconda3\\lib\\site-packages (from requests>=2.20->openai==0.28.0) (2.2.2)\n",
      "Requirement already satisfied: certifi>=2017.4.17 in c:\\users\\omkar\\anaconda3\\lib\\site-packages (from requests>=2.20->openai==0.28.0) (2024.8.30)\n",
      "Requirement already satisfied: aiosignal>=1.1.2 in c:\\users\\omkar\\anaconda3\\lib\\site-packages (from aiohttp->openai==0.28.0) (1.2.0)\n",
      "Requirement already satisfied: attrs>=17.3.0 in c:\\users\\omkar\\anaconda3\\lib\\site-packages (from aiohttp->openai==0.28.0) (23.1.0)\n",
      "Requirement already satisfied: frozenlist>=1.1.1 in c:\\users\\omkar\\anaconda3\\lib\\site-packages (from aiohttp->openai==0.28.0) (1.4.0)\n",
      "Requirement already satisfied: multidict<7.0,>=4.5 in c:\\users\\omkar\\anaconda3\\lib\\site-packages (from aiohttp->openai==0.28.0) (6.0.4)\n",
      "Requirement already satisfied: yarl<2.0,>=1.0 in c:\\users\\omkar\\anaconda3\\lib\\site-packages (from aiohttp->openai==0.28.0) (1.9.3)\n",
      "Requirement already satisfied: colorama in c:\\users\\omkar\\anaconda3\\lib\\site-packages (from tqdm->openai==0.28.0) (0.4.6)\n",
      "Downloading openai-0.28.0-py3-none-any.whl (76 kB)\n",
      "Installing collected packages: openai\n",
      "  Attempting uninstall: openai\n",
      "    Found existing installation: openai 1.3.0\n",
      "    Uninstalling openai-1.3.0:\n",
      "      Successfully uninstalled openai-1.3.0\n",
      "Successfully installed openai-0.28.0\n"
     ]
    }
   ],
   "source": [
    "!pip install openai python-dotenv"
   ]
  },
  {
   "cell_type": "markdown",
   "metadata": {},
   "source": [
    "### 2. Import Dependencies"
   ]
  },
  {
   "cell_type": "code",
   "execution_count": null,
   "metadata": {},
   "outputs": [],
   "source": [
    "import os\n",
    "import requests\n",
    "import json\n",
    "from dotenv import load_dotenv"
   ]
  },
  {
   "cell_type": "markdown",
   "metadata": {},
   "source": [
    "### 3. Load the environment variables"
   ]
  },
  {
   "cell_type": "code",
   "execution_count": null,
   "metadata": {},
   "outputs": [],
   "source": [
    "load_dotenv()\n",
    "\n",
    "# set up API keys\n",
    "OPENAI_API_KEY = os.getenv('OPENAI_API_KEY')\n",
    "WEATHER_API_KEY = os.getenv('WEATHER_API_KEY')"
   ]
  },
  {
   "cell_type": "markdown",
   "metadata": {},
   "source": [
    "### 4. Weather Agent Class\n",
    "The WeatherAgent class is a Python implementation that provides weather information for a given location using natural language processing. It combines the OpenAI API for language understanding and the Weatherstack API for retrieving weather data.\n",
    "\n",
    "### Key Components\n",
    "#### Initialization\n",
    "- The class requires API keys for both Weatherstack and OpenAI services\n",
    "- These keys are used to authenticate API requests\n",
    "#### Methods \n",
    "\n",
    "**1. call_openai_api**\n",
    "- Makes requests to OpenAI's API\n",
    "- Sends messages in a specific format required by OpenAI\n",
    "- Returns the generated text response or None if an error occurs\n",
    "- Handles API errors and exceptions gracefully \n",
    "\n",
    "**2. extract_location**\n",
    "- Uses OpenAI to extract location information from a natural language query\n",
    "- Provides specific instructions to the AI to focus only on location extraction\n",
    "- Returns the extracted location name \n",
    "\n",
    "**3. get_weather_data**\n",
    "- Fetches current weather data from Weatherstack API for a specified location\n",
    "- Processes the API response to extract relevant weather information\n",
    "- Returns a structured dictionary with key weather metrics including:\n",
    "  - Location name and country\n",
    "  - Temperature and \"feels like\" temperature\n",
    "  - Humidity and wind speed\n",
    "  - Weather description and cloud cover\n",
    "\n",
    "  **4. generate_weather_response**\n",
    "- Creates a natural language description of weather conditions\n",
    "- Uses OpenAI to convert structured weather data into conversational text\n",
    "- Returns a friendly, informative weather description \n",
    "\n",
    "**5. process_weather_query**\n",
    "- Orchestrates the entire weather information process\n",
    "- Extracts location from user query\n",
    "- Retrieves weather data for that location\n",
    "- Generates a natural language response\n",
    "- Handles errors at each step with appropriate fallback messages"
   ]
  },
  {
   "cell_type": "code",
   "execution_count": null,
   "metadata": {},
   "outputs": [],
   "source": [
    "class WeatherAgent:\n",
    "    def __init__(self, weather_api_key, openai_api_key):\n",
    "        \"\"\"\n",
    "        Initialize the Weather Agent with API keys.\n",
    "        \n",
    "        Args:\n",
    "            weather_api_key (str): API key for weather service\n",
    "            openai_api_key (str): API key for OpenAI\n",
    "        \"\"\"\n",
    "        self.weather_api_key = weather_api_key\n",
    "        self.openai_api_key = openai_api_key\n",
    "    \n",
    "    def call_openai_api(self, messages, model=\"gpt-3.5-turbo\"):\n",
    "        \"\"\"\n",
    "        Call OpenAI API directly using requests.\n",
    "        \n",
    "        Args:\n",
    "            messages (list): List of message objects\n",
    "            model (str): Model to use\n",
    "            \n",
    "        Returns:\n",
    "            str: Response content\n",
    "        \"\"\"\n",
    "        headers = {\n",
    "            \"Content-Type\": \"application/json\",\n",
    "            \"Authorization\": f\"Bearer {self.openai_api_key}\"\n",
    "        }\n",
    "        \n",
    "        payload = {\n",
    "            \"model\": model,\n",
    "            \"messages\": messages,\n",
    "            \"temperature\": 0.7\n",
    "        }\n",
    "        \n",
    "        try:\n",
    "            response = requests.post(\n",
    "                \"https://api.openai.com/v1/chat/completions\",\n",
    "                headers=headers,\n",
    "                data=json.dumps(payload)\n",
    "            )\n",
    "            \n",
    "            if response.status_code == 200:\n",
    "                return response.json()[\"choices\"][0][\"message\"][\"content\"].strip()\n",
    "            else:\n",
    "                print(f\"Error calling OpenAI API: {response.status_code}\")\n",
    "                print(response.text)\n",
    "                return None\n",
    "        except Exception as e:\n",
    "            print(f\"Exception when calling OpenAI API: {e}\")\n",
    "            return None\n",
    "\n",
    "    def extract_location(self, user_query):\n",
    "        \"\"\"\n",
    "        Extract location from user query using OpenAI.\n",
    "        \n",
    "        Args:\n",
    "            user_query (str): Natural language weather query\n",
    "        \n",
    "        Returns:\n",
    "            str: Extracted location name\n",
    "        \"\"\"\n",
    "        messages = [\n",
    "            {\"role\": \"system\", \"content\": \"You are a location extraction assistant. Extract the specific city or location from the given query.\"},\n",
    "            {\"role\": \"user\", \"content\": f\"Extract the city or location name from this query: '{user_query}'. Only return the location name, nothing else.\"}\n",
    "        ]\n",
    "        \n",
    "        try:\n",
    "            return self.call_openai_api(messages)\n",
    "        except Exception as e:\n",
    "            print(f\"Error extracting location: {e}\")\n",
    "            return None\n",
    "\n",
    "    def get_weather_data(self, location):\n",
    "        \"\"\"\n",
    "        Fetch weather data for a given location using Weatherstack API.\n",
    "        \n",
    "        Args:\n",
    "            location (str): City name or location identifier\n",
    "        \n",
    "        Returns:\n",
    "            dict: Processed weather information\n",
    "        \"\"\"\n",
    "        base_url = \"http://api.weatherstack.com/current\"\n",
    "        params = {\n",
    "            'access_key': self.weather_api_key,\n",
    "            'query': location,\n",
    "            'units': 'm'  # Metric units\n",
    "        }\n",
    "        \n",
    "        try:\n",
    "            response = requests.get(base_url, params=params)\n",
    "            data = response.json()\n",
    "            \n",
    "            # Check for errors in the response\n",
    "            if 'error' in data:\n",
    "                print(f\"Weather API error: {data['error']['info']}\")\n",
    "                return None\n",
    "            \n",
    "            # Extract relevant weather information\n",
    "            weather_info = {\n",
    "                'location': data['location']['name'],\n",
    "                'country': data['location']['country'],\n",
    "                'temperature': data['current']['temperature'],\n",
    "                'feels_like': data['current']['feelslike'],\n",
    "                'humidity': data['current']['humidity'],\n",
    "                'description': data['current']['weather_descriptions'][0] if data['current']['weather_descriptions'] else 'No description available',\n",
    "                'wind_speed': data['current']['wind_speed'],\n",
    "                'cloudiness': data['current']['cloudcover']\n",
    "            }\n",
    "            \n",
    "            return weather_info\n",
    "        \n",
    "        except Exception as e:\n",
    "            print(f\"Error fetching weather data: {e}\")\n",
    "            if 'response' in locals() and hasattr(response, 'text'):\n",
    "                print(f\"Response content: {response.text}\")\n",
    "            return None\n",
    "\n",
    "    def generate_weather_response(self, weather_data):\n",
    "        \"\"\"\n",
    "        Generate a natural language response for weather data.\n",
    "        \n",
    "        Args:\n",
    "            weather_data (dict): Weather information\n",
    "        \n",
    "        Returns:\n",
    "            str: Descriptive weather response\n",
    "        \"\"\"\n",
    "        messages = [\n",
    "            {\"role\": \"system\", \"content\": \"You are a friendly weather narrator. Create a conversational weather description.\"},\n",
    "            {\"role\": \"user\", \"content\": f\"Create a friendly, informative weather description using this data: {weather_data}\"}\n",
    "        ]\n",
    "        \n",
    "        try:\n",
    "            return self.call_openai_api(messages)\n",
    "        except Exception as e:\n",
    "            print(f\"Error generating weather response: {e}\")\n",
    "            return None\n",
    "\n",
    "    def process_weather_query(self, user_query):\n",
    "        \"\"\"\n",
    "        Process a complete weather query from extraction to response.\n",
    "        \n",
    "        Args:\n",
    "            user_query (str): Natural language weather query\n",
    "        \n",
    "        Returns:\n",
    "            str: Comprehensive weather information response\n",
    "        \"\"\"\n",
    "        # Extract location\n",
    "        location = self.extract_location(user_query)\n",
    "        if not location:\n",
    "            return \"Sorry, I couldn't determine the location from your query.\"\n",
    "        \n",
    "        # Get weather data\n",
    "        weather_data = self.get_weather_data(location)\n",
    "        if not weather_data:\n",
    "            return f\"Sorry, I couldn't retrieve weather data for {location}.\"\n",
    "        \n",
    "        # Generate natural language response\n",
    "        weather_response = self.generate_weather_response(weather_data)\n",
    "        return weather_response or \"I encountered an issue generating the weather description.\""
   ]
  },
  {
   "cell_type": "markdown",
   "metadata": {},
   "source": [
    "### 5. Initialize the Agent"
   ]
  },
  {
   "cell_type": "code",
   "execution_count": null,
   "metadata": {},
   "outputs": [],
   "source": [
    "weather_agent = WeatherAgent(\n",
    "    weather_api_key=WEATHER_API_KEY, \n",
    "    openai_api_key=OPENAI_API_KEY\n",
    ")"
   ]
  },
  {
   "cell_type": "code",
   "execution_count": 22,
   "metadata": {},
   "outputs": [
    {
     "name": "stdout",
     "output_type": "stream",
     "text": [
      "Query: What's the weather like in New York today?\n",
      "Hey there! Today in New York, United States of America, we've got a cozy 6 degrees Celsius with a feels-like temperature of 4 degrees. It's a bit on the cloudy side with overcast skies and a humidity level of 49%. The wind is blowing gently at 6 km/h, and the cloud cover is at 100%. It's a perfect day to grab a warm drink and enjoy the calm weather. Stay cozy and have a wonderful day!\n"
     ]
    }
   ],
   "source": [
    "# Process a query\n",
    "query = \"What's the weather like in New York today?\"\n",
    "print(f\"Query: {query}\")\n",
    "result = weather_agent.process_weather_query(query)\n",
    "print(result)"
   ]
  },
  {
   "cell_type": "code",
   "execution_count": 23,
   "metadata": {},
   "outputs": [
    {
     "name": "stdout",
     "output_type": "stream",
     "text": [
      "Query: Tell me about the current conditions in London\n",
      "Hey there, folks in London, United Kingdom! Today, it's a lovely day with a temperature of 17°C, which feels just right at 17°C. The skies are looking partly cloudy, adding a touch of charm to the day. The humidity is at a comfortable 48%, so it's not too muggy out there.\n",
      "\n",
      "You might feel a gentle breeze with a wind speed of 4 km/h, giving a pleasant touch to the atmosphere. The cloudiness is at 50%, so you can expect some sunny breaks throughout the day. Overall, it's a great day to enjoy a walk in the park or a cup of tea outdoors. Stay cozy and enjoy the delightful weather in London!\n"
     ]
    }
   ],
   "source": [
    "query = \"Tell me about the current conditions in London\"\n",
    "print(f\"Query: {query}\")\n",
    "result = weather_agent.process_weather_query(query)\n",
    "print(result)"
   ]
  },
  {
   "cell_type": "code",
   "execution_count": null,
   "metadata": {},
   "outputs": [],
   "source": []
  }
 ],
 "metadata": {
  "kernelspec": {
   "display_name": "base",
   "language": "python",
   "name": "python3"
  },
  "language_info": {
   "codemirror_mode": {
    "name": "ipython",
    "version": 3
   },
   "file_extension": ".py",
   "mimetype": "text/x-python",
   "name": "python",
   "nbconvert_exporter": "python",
   "pygments_lexer": "ipython3",
   "version": "3.12.4"
  }
 },
 "nbformat": 4,
 "nbformat_minor": 2
}
